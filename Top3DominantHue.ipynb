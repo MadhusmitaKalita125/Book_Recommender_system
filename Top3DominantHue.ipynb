{
 "cells": [
  {
   "cell_type": "code",
   "execution_count": 1,
   "metadata": {},
   "outputs": [],
   "source": [
    "import cv2\n",
    "import numpy as np\n",
    "from sklearn.cluster import KMeans"
   ]
  },
  {
   "cell_type": "code",
   "execution_count": 2,
   "metadata": {},
   "outputs": [],
   "source": [
    "def make_histogram(cluster):\n",
    "    \"\"\"\n",
    "    Count the number of pixels in each cluster\n",
    "    :param: KMeans cluster\n",
    "    :return: numpy histogram\n",
    "    \"\"\"\n",
    "    numLabels = np.arange(0, len(np.unique(cluster.labels_)) + 1)\n",
    "    hist, _ = np.histogram(cluster.labels_, bins=numLabels)\n",
    "    hist = hist.astype('float32')\n",
    "    hist /= hist.sum()\n",
    "    return hist\n",
    "\n"
   ]
  },
  {
   "cell_type": "code",
   "execution_count": 3,
   "metadata": {},
   "outputs": [],
   "source": [
    "def make_bar(height, width, color):\n",
    "    \"\"\"\n",
    "    Create an image of a given color\n",
    "    :param: height of the image\n",
    "    :param: width of the image\n",
    "    :param: BGR pixel values of the color\n",
    "    :return: tuple of bar, rgb values, and hsv values\n",
    "    \"\"\"\n",
    "    bar = np.zeros((height, width, 3), np.uint8)\n",
    "    bar[:] = color\n",
    "    red, green, blue = int(color[2]), int(color[1]), int(color[0])\n",
    "    hsv_bar = cv2.cvtColor(bar, cv2.COLOR_BGR2HSV)\n",
    "    hue, sat, val = hsv_bar[0][0]\n",
    "    return bar, (red, green, blue), (hue, sat, val)"
   ]
  },
  {
   "cell_type": "code",
   "execution_count": 4,
   "metadata": {},
   "outputs": [],
   "source": [
    "def sort_hsvs(hsv_list):\n",
    "    \"\"\"\n",
    "    Sort the list of HSV values\n",
    "    :param hsv_list: List of HSV tuples\n",
    "    :return: List of indexes, sorted by hue, then saturation, then value\n",
    "    \"\"\"\n",
    "    bars_with_indexes = []\n",
    "    for index, hsv_val in enumerate(hsv_list):\n",
    "        bars_with_indexes.append((index, hsv_val[0], hsv_val[1], hsv_val[2]))\n",
    "    bars_with_indexes.sort(key=lambda elem: (elem[1], elem[2], elem[3]))\n",
    "    return [item[0] for item in bars_with_indexes]"
   ]
  },
  {
   "cell_type": "code",
   "execution_count": 5,
   "metadata": {},
   "outputs": [
    {
     "name": "stdout",
     "output_type": "stream",
     "text": [
      "Bar 1\n",
      "  RGB values: (105, 78, 168)\n",
      "  HSV values: (129, 137, 168)\n",
      "Bar 2\n",
      "  RGB values: (233, 192, 76)\n",
      "  HSV values: (22, 172, 233)\n",
      "Bar 3\n",
      "  RGB values: (186, 165, 226)\n",
      "  HSV values: (130, 69, 226)\n"
     ]
    }
   ],
   "source": [
    "img = cv2.imread('019956051X.jpg')\n",
    "height, width, _ = np.shape(img)\n",
    "\n",
    "# reshape the image to be a simple list of RGB pixels\n",
    "image = img.reshape((height * width, 3))\n",
    "\n",
    "# we'll pick the 5 most common colors\n",
    "num_clusters = 3\n",
    "clusters = KMeans(n_clusters=num_clusters)\n",
    "clusters.fit(image)\n",
    "\n",
    "# count the dominant colors and put them in \"buckets\"\n",
    "histogram = make_histogram(clusters)\n",
    "# then sort them, most-common first\n",
    "combined = zip(histogram, clusters.cluster_centers_)\n",
    "combined = sorted(combined, key=lambda x: x[0], reverse=True)\n",
    "\n",
    "# finally, we'll output a graphic showing the colors in order\n",
    "bars = []\n",
    "hsv_values = []\n",
    "for index, rows in enumerate(combined):\n",
    "    bar, rgb, hsv = make_bar(100, 100, rows[1])\n",
    "    print(f'Bar {index + 1}')\n",
    "    print(f'  RGB values: {rgb}')\n",
    "    print(f'  HSV values: {hsv}')\n",
    "    hsv_values.append(hsv)\n",
    "    bars.append(bar)"
   ]
  },
  {
   "cell_type": "code",
   "execution_count": null,
   "metadata": {},
   "outputs": [],
   "source": [
    "sorted_bar_indexes = sort_hsvs(hsv_values)\n",
    "sorted_bars = [bars[idx] for idx in sorted_bar_indexes]\n",
    "\n",
    "cv2.imshow('Sorted by HSV values', np.hstack(sorted_bars))\n",
    "cv2.imshow(f'{num_clusters} Most Common Colors', np.hstack(bars))\n",
    "cv2.waitKey(0)"
   ]
  },
  {
   "cell_type": "code",
   "execution_count": null,
   "metadata": {},
   "outputs": [],
   "source": []
  }
 ],
 "metadata": {
  "kernelspec": {
   "display_name": "Python 3",
   "language": "python",
   "name": "python3"
  },
  "language_info": {
   "codemirror_mode": {
    "name": "ipython",
    "version": 3
   },
   "file_extension": ".py",
   "mimetype": "text/x-python",
   "name": "python",
   "nbconvert_exporter": "python",
   "pygments_lexer": "ipython3",
   "version": "3.7.4"
  }
 },
 "nbformat": 4,
 "nbformat_minor": 2
}
