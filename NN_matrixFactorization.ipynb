{
 "cells": [
  {
   "cell_type": "code",
   "execution_count": 1,
   "metadata": {},
   "outputs": [],
   "source": [
    "import numpy as np\n",
    "import pandas as pd\n",
    "import matplotlib.pyplot as plt\n",
    "import seaborn as sns\n",
    "import scipy\n",
    "import warnings\n",
    "warnings.filterwarnings('ignore')\n",
    "from collections import Counter\n",
    "from sklearn.model_selection import train_test_split\n",
    "from scipy import sparse\n",
    "\n",
    "import surprise\n",
    "import numpy as np # linear algebra\n",
    "import pandas as pd # data processing, CSV file I/O (e.g. pd.read_csv)\n",
    "from sklearn.model_selection import train_test_split\n",
    "import os"
   ]
  },
  {
   "cell_type": "code",
   "execution_count": 2,
   "metadata": {},
   "outputs": [
    {
     "name": "stderr",
     "output_type": "stream",
     "text": [
      "Using TensorFlow backend.\n"
     ]
    }
   ],
   "source": [
    "import keras\n",
    "from keras import backend as K\n",
    "from keras.models import Sequential\n",
    "from keras.layers import Dense , merge\n",
    "from keras.optimizers import Adam,SGD,Adagrad,Adadelta,RMSprop\n",
    "from keras.utils import to_categorical\n",
    "from keras.utils.vis_utils import model_to_dot\n",
    "from keras.callbacks import ReduceLROnPlateau\n",
    "\n",
    "\n",
    "from keras.layers.merge import dot\n",
    "from keras.models import Model"
   ]
  },
  {
   "cell_type": "code",
   "execution_count": 3,
   "metadata": {},
   "outputs": [],
   "source": [
    "from keras.layers import Dropout, Flatten,Activation,Input,Embedding\n",
    "from keras.layers import Conv2D, MaxPooling2D, BatchNormalization\n",
    "import tensorflow as tf\n",
    "import random as rn\n",
    "from IPython.display import SVG"
   ]
  },
  {
   "cell_type": "code",
   "execution_count": 4,
   "metadata": {},
   "outputs": [],
   "source": [
    "data1= pd.read_csv('UserInteractionV1.csv')"
   ]
  },
  {
   "cell_type": "code",
   "execution_count": 5,
   "metadata": {},
   "outputs": [],
   "source": [
    "new = data1[['user_id','book_id','rating']]"
   ]
  },
  {
   "cell_type": "code",
   "execution_count": 6,
   "metadata": {},
   "outputs": [],
   "source": [
    "new = new.loc[:, ~new.columns.str.contains('^Unnamed')]"
   ]
  },
  {
   "cell_type": "code",
   "execution_count": 7,
   "metadata": {},
   "outputs": [],
   "source": [
    "users = new.user_id.unique()\n",
    "Books = new.book_id.unique()\n",
    "\n",
    "userid2idx = {o:i for i,o in enumerate(users)}\n",
    "Bookid2idx = {o:i for i,o in enumerate(Books)}"
   ]
  },
  {
   "cell_type": "code",
   "execution_count": 8,
   "metadata": {},
   "outputs": [],
   "source": [
    "n_latent_factors=50"
   ]
  },
  {
   "cell_type": "code",
   "execution_count": 9,
   "metadata": {},
   "outputs": [
    {
     "name": "stdout",
     "output_type": "stream",
     "text": [
      "(892345, 3) (222454, 3)\n"
     ]
    }
   ],
   "source": [
    "new['user_id'] = new['user_id'].apply(lambda x: userid2idx[x])\n",
    "new['book_id'] = new['book_id'].apply(lambda x: Bookid2idx[x])\n",
    "split = np.random.rand(len(new)) < 0.8\n",
    "train = new[split]\n",
    "valid = new[~split]\n",
    "print(train.shape , valid.shape)"
   ]
  },
  {
   "cell_type": "code",
   "execution_count": 10,
   "metadata": {},
   "outputs": [
    {
     "data": {
      "text/html": [
       "<div>\n",
       "<style scoped>\n",
       "    .dataframe tbody tr th:only-of-type {\n",
       "        vertical-align: middle;\n",
       "    }\n",
       "\n",
       "    .dataframe tbody tr th {\n",
       "        vertical-align: top;\n",
       "    }\n",
       "\n",
       "    .dataframe thead th {\n",
       "        text-align: right;\n",
       "    }\n",
       "</style>\n",
       "<table border=\"1\" class=\"dataframe\">\n",
       "  <thead>\n",
       "    <tr style=\"text-align: right;\">\n",
       "      <th></th>\n",
       "      <th>user_id</th>\n",
       "      <th>book_id</th>\n",
       "      <th>rating</th>\n",
       "    </tr>\n",
       "  </thead>\n",
       "  <tbody>\n",
       "    <tr>\n",
       "      <td>0</td>\n",
       "      <td>0</td>\n",
       "      <td>0</td>\n",
       "      <td>5</td>\n",
       "    </tr>\n",
       "    <tr>\n",
       "      <td>1</td>\n",
       "      <td>1</td>\n",
       "      <td>0</td>\n",
       "      <td>5</td>\n",
       "    </tr>\n",
       "    <tr>\n",
       "      <td>2</td>\n",
       "      <td>2</td>\n",
       "      <td>0</td>\n",
       "      <td>5</td>\n",
       "    </tr>\n",
       "    <tr>\n",
       "      <td>3</td>\n",
       "      <td>3</td>\n",
       "      <td>0</td>\n",
       "      <td>5</td>\n",
       "    </tr>\n",
       "    <tr>\n",
       "      <td>4</td>\n",
       "      <td>4</td>\n",
       "      <td>0</td>\n",
       "      <td>5</td>\n",
       "    </tr>\n",
       "    <tr>\n",
       "      <td>6</td>\n",
       "      <td>6</td>\n",
       "      <td>0</td>\n",
       "      <td>5</td>\n",
       "    </tr>\n",
       "    <tr>\n",
       "      <td>8</td>\n",
       "      <td>8</td>\n",
       "      <td>0</td>\n",
       "      <td>4</td>\n",
       "    </tr>\n",
       "    <tr>\n",
       "      <td>9</td>\n",
       "      <td>9</td>\n",
       "      <td>0</td>\n",
       "      <td>5</td>\n",
       "    </tr>\n",
       "    <tr>\n",
       "      <td>10</td>\n",
       "      <td>10</td>\n",
       "      <td>0</td>\n",
       "      <td>5</td>\n",
       "    </tr>\n",
       "    <tr>\n",
       "      <td>11</td>\n",
       "      <td>11</td>\n",
       "      <td>0</td>\n",
       "      <td>5</td>\n",
       "    </tr>\n",
       "  </tbody>\n",
       "</table>\n",
       "</div>"
      ],
      "text/plain": [
       "    user_id  book_id  rating\n",
       "0         0        0       5\n",
       "1         1        0       5\n",
       "2         2        0       5\n",
       "3         3        0       5\n",
       "4         4        0       5\n",
       "6         6        0       5\n",
       "8         8        0       4\n",
       "9         9        0       5\n",
       "10       10        0       5\n",
       "11       11        0       5"
      ]
     },
     "execution_count": 10,
     "metadata": {},
     "output_type": "execute_result"
    }
   ],
   "source": [
    "train.head(10)"
   ]
  },
  {
   "cell_type": "code",
   "execution_count": 11,
   "metadata": {},
   "outputs": [],
   "source": [
    "n_book=len(new['book_id'].unique())\n",
    "n_users=len(new['user_id'].unique())"
   ]
  },
  {
   "cell_type": "code",
   "execution_count": 12,
   "metadata": {},
   "outputs": [],
   "source": [
    "user_input=Input(shape=(1,),name='user_input',dtype='int64')\n",
    "user_embedding=Embedding(n_users,n_latent_factors,name='user_embedding')(user_input)\n",
    "user_vec=Flatten(name='FlattenUsers')(user_embedding)\n",
    "user_vec=Dropout(0.40)(user_vec)"
   ]
  },
  {
   "cell_type": "code",
   "execution_count": 13,
   "metadata": {},
   "outputs": [],
   "source": [
    "book_input=Input(shape=(1,),name='Book_input',dtype='int64')\n",
    "book_embedding=Embedding(n_book,n_latent_factors,name='book_embedding')(book_input)\n",
    "book_vec=Flatten(name='FlattenBooks')(book_embedding)\n",
    "book_vec=Dropout(0.40)(book_vec)"
   ]
  },
  {
   "cell_type": "code",
   "execution_count": 14,
   "metadata": {},
   "outputs": [],
   "source": [
    "sim=dot([user_vec,book_vec],name='Simalarity-Dot-Product',axes=1)"
   ]
  },
  {
   "cell_type": "code",
   "execution_count": 15,
   "metadata": {},
   "outputs": [
    {
     "name": "stdout",
     "output_type": "stream",
     "text": [
      "Model: \"model_1\"\n",
      "__________________________________________________________________________________________________\n",
      "Layer (type)                    Output Shape         Param #     Connected to                     \n",
      "==================================================================================================\n",
      "user_input (InputLayer)         (None, 1)            0                                            \n",
      "__________________________________________________________________________________________________\n",
      "Book_input (InputLayer)         (None, 1)            0                                            \n",
      "__________________________________________________________________________________________________\n",
      "user_embedding (Embedding)      (None, 1, 50)        934400      user_input[0][0]                 \n",
      "__________________________________________________________________________________________________\n",
      "book_embedding (Embedding)      (None, 1, 50)        964650      Book_input[0][0]                 \n",
      "__________________________________________________________________________________________________\n",
      "FlattenUsers (Flatten)          (None, 50)           0           user_embedding[0][0]             \n",
      "__________________________________________________________________________________________________\n",
      "FlattenBooks (Flatten)          (None, 50)           0           book_embedding[0][0]             \n",
      "__________________________________________________________________________________________________\n",
      "dropout_1 (Dropout)             (None, 50)           0           FlattenUsers[0][0]               \n",
      "__________________________________________________________________________________________________\n",
      "dropout_2 (Dropout)             (None, 50)           0           FlattenBooks[0][0]               \n",
      "__________________________________________________________________________________________________\n",
      "Simalarity-Dot-Product (Dot)    (None, 1)            0           dropout_1[0][0]                  \n",
      "                                                                 dropout_2[0][0]                  \n",
      "__________________________________________________________________________________________________\n",
      "dense_1 (Dense)                 (None, 96)           192         Simalarity-Dot-Product[0][0]     \n",
      "__________________________________________________________________________________________________\n",
      "dropout_3 (Dropout)             (None, 96)           0           dense_1[0][0]                    \n",
      "__________________________________________________________________________________________________\n",
      "dense_2 (Dense)                 (None, 1)            97          dropout_3[0][0]                  \n",
      "==================================================================================================\n",
      "Total params: 1,899,339\n",
      "Trainable params: 1,899,339\n",
      "Non-trainable params: 0\n",
      "__________________________________________________________________________________________________\n"
     ]
    }
   ],
   "source": [
    "nn_inp=Dense(96,activation='relu')(sim)\n",
    "nn_inp=Dropout(0.4)(nn_inp)\n",
    "# nn_inp=BatchNormalization()(nn_inp)\n",
    "nn_inp=Dense(1,activation='relu')(nn_inp)\n",
    "nn_model =keras.models.Model([user_input, book_input],nn_inp)\n",
    "nn_model.summary()"
   ]
  },
  {
   "cell_type": "code",
   "execution_count": 16,
   "metadata": {},
   "outputs": [],
   "source": [
    "nn_model.compile(optimizer=Adam(lr=1e-3),loss='mse')"
   ]
  },
  {
   "cell_type": "code",
   "execution_count": 17,
   "metadata": {},
   "outputs": [],
   "source": [
    "batch_size=128\n",
    "epochs=1"
   ]
  },
  {
   "cell_type": "code",
   "execution_count": 25,
   "metadata": {},
   "outputs": [
    {
     "name": "stdout",
     "output_type": "stream",
     "text": [
      "Train on 891961 samples, validate on 222838 samples\n",
      "Epoch 1/1\n",
      "891961/891961 [==============================] - 65s 72us/step - loss: 1.8703 - val_loss: 1.5751\n"
     ]
    }
   ],
   "source": [
    "History = nn_model.fit([train.user_id,train.book_id],train.rating, batch_size=batch_size,\n",
    "                              epochs =epochs, validation_data = ([valid.user_id,valid.book_id],valid.rating),\n",
    "                              verbose = 1)"
   ]
  },
  {
   "cell_type": "code",
   "execution_count": 37,
   "metadata": {},
   "outputs": [
    {
     "name": "stdout",
     "output_type": "stream",
     "text": [
      "Train on 891058 samples, validate on 223741 samples\n",
      "Epoch 1/10\n",
      "891058/891058 [==============================] - 70s 78us/step - loss: 0.9073 - val_loss: 1.2784\n",
      "Epoch 2/10\n",
      "891058/891058 [==============================] - 71s 79us/step - loss: 0.8913 - val_loss: 1.2744\n",
      "Epoch 3/10\n",
      "891058/891058 [==============================] - 70s 79us/step - loss: 0.8810 - val_loss: 1.2740\n",
      "Epoch 4/10\n",
      "891058/891058 [==============================] - 71s 80us/step - loss: 0.8692 - val_loss: 1.2644\n",
      "Epoch 5/10\n",
      "891058/891058 [==============================] - 67s 75us/step - loss: 0.8618 - val_loss: 1.2660\n",
      "Epoch 6/10\n",
      "891058/891058 [==============================] - 69s 77us/step - loss: 0.8478 - val_loss: 1.2608\n",
      "Epoch 7/10\n",
      "891058/891058 [==============================] - 64s 72us/step - loss: 0.8429 - val_loss: 1.2650\n",
      "Epoch 8/10\n",
      "891058/891058 [==============================] - 66s 74us/step - loss: 0.8311 - val_loss: 1.2613\n",
      "Epoch 9/10\n",
      "891058/891058 [==============================] - 66s 74us/step - loss: 0.8264 - val_loss: 1.2682\n",
      "Epoch 10/10\n",
      "891058/891058 [==============================] - 72s 81us/step - loss: 0.8216 - val_loss: 1.2653\n"
     ]
    }
   ],
   "source": [
    "History = nn_model.fit([train.user_id,train.book_id],train.rating, batch_size=batch_size,\n",
    "                              epochs =epochs, validation_data = ([valid.user_id,valid.book_id],valid.rating),\n",
    "                              verbose = 1)"
   ]
  },
  {
   "cell_type": "code",
   "execution_count": 18,
   "metadata": {},
   "outputs": [
    {
     "data": {
      "image/png": "[encoded data removed]",
      "text/plain": [
       "<IPython.core.display.Image object>"
      ]
     },
     "execution_count": 18,
     "metadata": {},
     "output_type": "execute_result"
    }
   ],
   "source": [
    "from keras.utils import plot_model\n",
    "plot_model(nn_model, to_file='model.png')"
   ]
  },
  {
   "cell_type": "code",
   "execution_count": null,
   "metadata": {},
   "outputs": [],
   "source": []
  }
 ],
 "metadata": {
  "kernelspec": {
   "display_name": "Python 3",
   "language": "python",
   "name": "python3"
  },
  "language_info": {
   "codemirror_mode": {
    "name": "ipython",
    "version": 3
   },
   "file_extension": ".py",
   "mimetype": "text/x-python",
   "name": "python",
   "nbconvert_exporter": "python",
   "pygments_lexer": "ipython3",
   "version": "3.7.4"
  }
 },
 "nbformat": 4,
 "nbformat_minor": 2
}
