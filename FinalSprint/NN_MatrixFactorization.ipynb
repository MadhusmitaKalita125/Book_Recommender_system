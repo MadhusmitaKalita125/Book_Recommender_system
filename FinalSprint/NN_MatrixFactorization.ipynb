{
 "cells": [
  {
   "cell_type": "code",
   "execution_count": 1,
   "metadata": {},
   "outputs": [],
   "source": [
    "import numpy as np\n",
    "import pandas as pd\n",
    "import matplotlib.pyplot as plt\n",
    "import seaborn as sns\n",
    "import scipy\n",
    "import warnings\n",
    "warnings.filterwarnings('ignore')\n",
    "from collections import Counter\n",
    "from sklearn.model_selection import train_test_split\n",
    "from scipy import sparse\n",
    "\n",
    "import surprise\n",
    "import numpy as np # linear algebra\n",
    "import pandas as pd # data processing, CSV file I/O (e.g. pd.read_csv)\n",
    "from sklearn.model_selection import train_test_split\n",
    "import os"
   ]
  },
  {
   "cell_type": "code",
   "execution_count": 2,
   "metadata": {},
   "outputs": [
    {
     "name": "stderr",
     "output_type": "stream",
     "text": [
      "Using TensorFlow backend.\n"
     ]
    }
   ],
   "source": [
    "import keras\n",
    "from keras import backend as K\n",
    "from keras.models import Sequential\n",
    "from keras.layers import Dense , merge\n",
    "from keras.optimizers import Adam,SGD,Adagrad,Adadelta,RMSprop\n",
    "from keras.utils import to_categorical\n",
    "from keras.utils.vis_utils import model_to_dot\n",
    "from keras.callbacks import ReduceLROnPlateau\n",
    "import numpy as np\n",
    "import pandas as pd\n",
    "import matplotlib.pyplot as plt\n",
    "import seaborn as sb\n",
    "from sklearn.preprocessing import OneHotEncoder, QuantileTransformer\n",
    "from sklearn.model_selection import train_test_split\n",
    "from numba import jit # Compile some functions when performance is critical\n",
    "import keras\n",
    "from keras.initializers import RandomNormal\n",
    "from keras.models import Model, load_model, save_model\n",
    "from keras.layers import Embedding, Input, Dense, Concatenate, Multiply, Flatten\n",
    "from keras.optimizers import Adam\n",
    "import tensorflow as tf\n",
    "\n",
    "from keras.layers.merge import dot\n",
    "from keras.models import Model"
   ]
  },
  {
   "cell_type": "code",
   "execution_count": 3,
   "metadata": {},
   "outputs": [],
   "source": [
    "from keras.layers import Dropout, Flatten,Activation,Input,Embedding\n",
    "from keras.layers import Conv2D, MaxPooling2D, BatchNormalization\n",
    "import tensorflow as tf\n",
    "import random as rn\n",
    "from IPython.display import SVG\n",
    "import keras\n",
    "from keras import backend as K\n",
    "from keras.models import Sequential\n",
    "from keras.layers import Dense , merge\n",
    "from keras.optimizers import Adam,SGD,Adagrad,Adadelta,RMSprop\n",
    "from keras.utils import to_categorical\n",
    "from keras.utils.vis_utils import model_to_dot\n",
    "from keras.callbacks import ReduceLROnPlateau\n",
    "from keras.layers.merge import dot\n",
    "from keras.models import Model"
   ]
  },
  {
   "cell_type": "code",
   "execution_count": 4,
   "metadata": {},
   "outputs": [],
   "source": [
    "data1= pd.read_csv('Dataset/UserInteractionV1.csv')"
   ]
  },
  {
   "cell_type": "code",
   "execution_count": 5,
   "metadata": {},
   "outputs": [],
   "source": [
    "new = data1[['user_id','book_id','rating']]"
   ]
  },
  {
   "cell_type": "code",
   "execution_count": 6,
   "metadata": {},
   "outputs": [],
   "source": [
    "new = new.loc[:, ~new.columns.str.contains('^Unnamed')]"
   ]
  },
  {
   "cell_type": "code",
   "execution_count": 7,
   "metadata": {},
   "outputs": [],
   "source": [
    "users = new.user_id.unique()\n",
    "Books = new.book_id.unique()\n",
    "\n",
    "userid2idx = {o:i for i,o in enumerate(users)}\n",
    "Bookid2idx = {o:i for i,o in enumerate(Books)}"
   ]
  },
  {
   "cell_type": "code",
   "execution_count": 8,
   "metadata": {},
   "outputs": [],
   "source": [
    "n_latent_factors=50"
   ]
  },
  {
   "cell_type": "code",
   "execution_count": 9,
   "metadata": {},
   "outputs": [
    {
     "name": "stdout",
     "output_type": "stream",
     "text": [
      "(892231, 3) (222568, 3)\n"
     ]
    }
   ],
   "source": [
    "new['user_id'] = new['user_id'].apply(lambda x: userid2idx[x])\n",
    "new['book_id'] = new['book_id'].apply(lambda x: Bookid2idx[x])\n",
    "split = np.random.rand(len(new)) < 0.8\n",
    "train = new[split]\n",
    "valid = new[~split]\n",
    "print(train.shape , valid.shape)"
   ]
  },
  {
   "cell_type": "code",
   "execution_count": 10,
   "metadata": {},
   "outputs": [
    {
     "data": {
      "text/html": [
       "<div>\n",
       "<style scoped>\n",
       "    .dataframe tbody tr th:only-of-type {\n",
       "        vertical-align: middle;\n",
       "    }\n",
       "\n",
       "    .dataframe tbody tr th {\n",
       "        vertical-align: top;\n",
       "    }\n",
       "\n",
       "    .dataframe thead th {\n",
       "        text-align: right;\n",
       "    }\n",
       "</style>\n",
       "<table border=\"1\" class=\"dataframe\">\n",
       "  <thead>\n",
       "    <tr style=\"text-align: right;\">\n",
       "      <th></th>\n",
       "      <th>user_id</th>\n",
       "      <th>book_id</th>\n",
       "      <th>rating</th>\n",
       "    </tr>\n",
       "  </thead>\n",
       "  <tbody>\n",
       "    <tr>\n",
       "      <td>0</td>\n",
       "      <td>0</td>\n",
       "      <td>0</td>\n",
       "      <td>5</td>\n",
       "    </tr>\n",
       "    <tr>\n",
       "      <td>2</td>\n",
       "      <td>2</td>\n",
       "      <td>0</td>\n",
       "      <td>5</td>\n",
       "    </tr>\n",
       "    <tr>\n",
       "      <td>3</td>\n",
       "      <td>3</td>\n",
       "      <td>0</td>\n",
       "      <td>5</td>\n",
       "    </tr>\n",
       "    <tr>\n",
       "      <td>4</td>\n",
       "      <td>4</td>\n",
       "      <td>0</td>\n",
       "      <td>5</td>\n",
       "    </tr>\n",
       "    <tr>\n",
       "      <td>7</td>\n",
       "      <td>7</td>\n",
       "      <td>0</td>\n",
       "      <td>4</td>\n",
       "    </tr>\n",
       "    <tr>\n",
       "      <td>9</td>\n",
       "      <td>9</td>\n",
       "      <td>0</td>\n",
       "      <td>5</td>\n",
       "    </tr>\n",
       "    <tr>\n",
       "      <td>12</td>\n",
       "      <td>12</td>\n",
       "      <td>0</td>\n",
       "      <td>4</td>\n",
       "    </tr>\n",
       "    <tr>\n",
       "      <td>13</td>\n",
       "      <td>13</td>\n",
       "      <td>0</td>\n",
       "      <td>3</td>\n",
       "    </tr>\n",
       "    <tr>\n",
       "      <td>14</td>\n",
       "      <td>14</td>\n",
       "      <td>0</td>\n",
       "      <td>3</td>\n",
       "    </tr>\n",
       "    <tr>\n",
       "      <td>15</td>\n",
       "      <td>15</td>\n",
       "      <td>0</td>\n",
       "      <td>5</td>\n",
       "    </tr>\n",
       "  </tbody>\n",
       "</table>\n",
       "</div>"
      ],
      "text/plain": [
       "    user_id  book_id  rating\n",
       "0         0        0       5\n",
       "2         2        0       5\n",
       "3         3        0       5\n",
       "4         4        0       5\n",
       "7         7        0       4\n",
       "9         9        0       5\n",
       "12       12        0       4\n",
       "13       13        0       3\n",
       "14       14        0       3\n",
       "15       15        0       5"
      ]
     },
     "execution_count": 10,
     "metadata": {},
     "output_type": "execute_result"
    }
   ],
   "source": [
    "train.head(10)"
   ]
  },
  {
   "cell_type": "code",
   "execution_count": 11,
   "metadata": {},
   "outputs": [],
   "source": [
    "def create_embed(n_latent_factors, n_book, n_users):\n",
    "    user_input=Input(shape=(1,),name='user_input',dtype='int64')\n",
    "    user_embedding=Embedding(n_users,n_latent_factors,name='user_embedding')(user_input)\n",
    "    \n",
    "    user_vec=Flatten(name='FlattenUsers')(user_embedding)\n",
    "    user_vec=Dropout(0.40)(user_vec)\n",
    "    \n",
    "    book_input=Input(shape=(1,),name='book_input',dtype='int64')\n",
    "    book_embedding=Embedding(n_book,n_latent_factors,name='book_embedding')(book_input)\n",
    "   \n",
    "    book_vec=Flatten(name='Flattenbooks')(book_embedding)\n",
    "    book_vec=Dropout(0.40)(book_vec)\n",
    "    \n",
    "    sim=dot([user_vec,book_vec],name='SimalarityDotProduct',axes=1)\n",
    "    \n",
    "    return user_vec, book_vec, user_input, book_input, sim "
   ]
  },
  {
   "cell_type": "code",
   "execution_count": 12,
   "metadata": {},
   "outputs": [],
   "source": [
    "n_book=len(new['book_id'].unique())\n",
    "n_users=len(new['user_id'].unique())"
   ]
  },
  {
   "cell_type": "code",
   "execution_count": 13,
   "metadata": {},
   "outputs": [],
   "source": [
    "def root_mean_squared_error(y_train, y_val):\n",
    "        return K.sqrt(K.mean(K.square(y_val - y_train))) "
   ]
  },
  {
   "cell_type": "code",
   "execution_count": 16,
   "metadata": {},
   "outputs": [
    {
     "name": "stdout",
     "output_type": "stream",
     "text": [
      "Train on 892231 samples, validate on 222568 samples\n",
      "Epoch 1/10\n",
      "892231/892231 [==============================] - 64s 72us/step - loss: 3.5303 - val_loss: 2.4206\n",
      "Epoch 2/10\n",
      "892231/892231 [==============================] - 64s 71us/step - loss: 1.9359 - val_loss: 1.4477\n",
      "Epoch 3/10\n",
      "892231/892231 [==============================] - 69s 78us/step - loss: 1.4947 - val_loss: 1.2340\n",
      "Epoch 4/10\n",
      "892231/892231 [==============================] - 71s 80us/step - loss: 1.3925 - val_loss: 1.1688\n",
      "Epoch 5/10\n",
      "892231/892231 [==============================] - 74s 83us/step - loss: 1.3614 - val_loss: 1.1431\n",
      "Epoch 6/10\n",
      "892231/892231 [==============================] - 67s 75us/step - loss: 1.3489 - val_loss: 1.1314\n",
      "Epoch 7/10\n",
      "892231/892231 [==============================] - 80s 90us/step - loss: 1.3434 - val_loss: 1.1264\n",
      "Epoch 8/10\n",
      "892231/892231 [==============================] - 76s 85us/step - loss: 1.3392 - val_loss: 1.1227\n",
      "Epoch 9/10\n",
      "892231/892231 [==============================] - 80s 89us/step - loss: 1.3381 - val_loss: 1.1211\n",
      "Epoch 10/10\n",
      "892231/892231 [==============================] - 77s 87us/step - loss: 1.3369 - val_loss: 1.1190\n"
     ]
    }
   ],
   "source": [
    "user_vec, book_vec, user_input, book_input, sim = create_embed(50, n_book, n_users)\n",
    "model_v0 = Model(inputs=[user_input, book_input], outputs= sim)\n",
    "opt = Adam(lr=0.001)\n",
    "model_v0.compile(optimizer=opt,loss =root_mean_squared_error)\n",
    "history_v0 = model_v0.fit([train.user_id,train.book_id],train.rating, batch_size= 128, epochs =10, \n",
    "                          validation_data = ([valid.user_id,valid.book_id],valid.rating),\n",
    "                              verbose = 1)\n"
   ]
  },
  {
   "cell_type": "code",
   "execution_count": 17,
   "metadata": {},
   "outputs": [
    {
     "name": "stdout",
     "output_type": "stream",
     "text": [
      "Train on 892231 samples, validate on 222568 samples\n",
      "Epoch 1/10\n",
      "892231/892231 [==============================] - 72s 81us/step - loss: 1.3346 - val_loss: 1.1177\n",
      "Epoch 2/10\n",
      "892231/892231 [==============================] - 78s 87us/step - loss: 1.3342 - val_loss: 1.1182\n",
      "Epoch 3/10\n",
      "892231/892231 [==============================] - 78s 88us/step - loss: 1.3337 - val_loss: 1.1172\n",
      "Epoch 4/10\n",
      "892231/892231 [==============================] - 80s 90us/step - loss: 1.3333 - val_loss: 1.1163\n",
      "Epoch 5/10\n",
      "892231/892231 [==============================] - 80s 90us/step - loss: 1.3320 - val_loss: 1.1155\n",
      "Epoch 6/10\n",
      "892231/892231 [==============================] - 76s 85us/step - loss: 1.3306 - val_loss: 1.1166\n",
      "Epoch 7/10\n",
      "892231/892231 [==============================] - 78s 88us/step - loss: 1.3286 - val_loss: 1.1151\n",
      "Epoch 8/10\n",
      "892231/892231 [==============================] - 73s 82us/step - loss: 1.3289 - val_loss: 1.1155\n",
      "Epoch 9/10\n",
      "892231/892231 [==============================] - 83s 93us/step - loss: 1.3292 - val_loss: 1.1152\n",
      "Epoch 10/10\n",
      "892231/892231 [==============================] - 74s 83us/step - loss: 1.3274 - val_loss: 1.1147\n"
     ]
    }
   ],
   "source": [
    "history_v0 = model_v0.fit([train.user_id,train.book_id],train.rating, batch_size= 128, epochs =10, \n",
    "                          validation_data = ([valid.user_id,valid.book_id],valid.rating),\n",
    "                              verbose = 1)\n",
    "\n"
   ]
  },
  {
   "cell_type": "code",
   "execution_count": 18,
   "metadata": {},
   "outputs": [
    {
     "data": {
      "image/png": "[encoded data removed]",
      "text/plain": [
       "<IPython.core.display.Image object>"
      ]
     },
     "execution_count": 18,
     "metadata": {},
     "output_type": "execute_result"
    }
   ],
   "source": [
    "from keras.utils import plot_model\n",
    "plot_model(model_v0, to_file='model_v2.png')"
   ]
  },
  {
   "cell_type": "code",
   "execution_count": null,
   "metadata": {},
   "outputs": [],
   "source": []
  }
 ],
 "metadata": {
  "kernelspec": {
   "display_name": "Python 3",
   "language": "python",
   "name": "python3"
  },
  "language_info": {
   "codemirror_mode": {
    "name": "ipython",
    "version": 3
   },
   "file_extension": ".py",
   "mimetype": "text/x-python",
   "name": "python",
   "nbconvert_exporter": "python",
   "pygments_lexer": "ipython3",
   "version": "3.7.4"
  }
 },
 "nbformat": 4,
 "nbformat_minor": 2
}
