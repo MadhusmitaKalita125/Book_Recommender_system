{
 "cells": [
  {
   "cell_type": "code",
   "execution_count": 1,
   "metadata": {},
   "outputs": [],
   "source": [
    "import numpy as np\n",
    "import pandas as pd\n",
    "import matplotlib.pyplot as plt\n",
    "import seaborn as sns\n",
    "import scipy"
   ]
  },
  {
   "cell_type": "markdown",
   "metadata": {},
   "source": [
    "# BookCoverDataSet"
   ]
  },
  {
   "cell_type": "code",
   "execution_count": 4,
   "metadata": {},
   "outputs": [],
   "source": [
    "import warnings\n",
    "warnings.filterwarnings('ignore')\n",
    "\n",
    "\n"
   ]
  },
  {
   "cell_type": "code",
   "execution_count": 2,
   "metadata": {},
   "outputs": [],
   "source": [
    "#Cover Dataset\n",
    "dataset=pd.read_csv('Dataset/book30-listing-test.csv',encoding = \"ISO-8859-1\")"
   ]
  },
  {
   "cell_type": "code",
   "execution_count": 5,
   "metadata": {},
   "outputs": [],
   "source": [
    "columns = ['Id', 'Image', 'Image_link', 'Title', 'Author', 'Class', 'Genre']\n",
    "dataset.columns = columns"
   ]
  },
  {
   "cell_type": "code",
   "execution_count": 6,
   "metadata": {},
   "outputs": [
    {
     "data": {
      "text/html": [
       "<div>\n",
       "<style scoped>\n",
       "    .dataframe tbody tr th:only-of-type {\n",
       "        vertical-align: middle;\n",
       "    }\n",
       "\n",
       "    .dataframe tbody tr th {\n",
       "        vertical-align: top;\n",
       "    }\n",
       "\n",
       "    .dataframe thead th {\n",
       "        text-align: right;\n",
       "    }\n",
       "</style>\n",
       "<table border=\"1\" class=\"dataframe\">\n",
       "  <thead>\n",
       "    <tr style=\"text-align: right;\">\n",
       "      <th></th>\n",
       "      <th>Id</th>\n",
       "      <th>Image</th>\n",
       "      <th>Image_link</th>\n",
       "      <th>Title</th>\n",
       "      <th>Author</th>\n",
       "      <th>Class</th>\n",
       "      <th>Genre</th>\n",
       "    </tr>\n",
       "  </thead>\n",
       "  <tbody>\n",
       "    <tr>\n",
       "      <td>0</td>\n",
       "      <td>1438005687</td>\n",
       "      <td>1438005687.jpg</td>\n",
       "      <td>http://ecx.images-amazon.com/images/I/510l0qhi...</td>\n",
       "      <td>Barron's GRE, 21st Edition</td>\n",
       "      <td>Sharon Weiner Green M.A.</td>\n",
       "      <td>28</td>\n",
       "      <td>Test Preparation</td>\n",
       "    </tr>\n",
       "    <tr>\n",
       "      <td>1</td>\n",
       "      <td>60750715</td>\n",
       "      <td>0060750715.jpg</td>\n",
       "      <td>http://ecx.images-amazon.com/images/I/51p5aUY%...</td>\n",
       "      <td>George Balanchine: The Ballet Maker (Eminent L...</td>\n",
       "      <td>Robert Gottlieb</td>\n",
       "      <td>1</td>\n",
       "      <td>Biographies &amp; Memoirs</td>\n",
       "    </tr>\n",
       "    <tr>\n",
       "      <td>2</td>\n",
       "      <td>1580237959</td>\n",
       "      <td>1580237959.jpg</td>\n",
       "      <td>http://ecx.images-amazon.com/images/I/51pum0eW...</td>\n",
       "      <td>A Partner in Holiness: Deepening Mindfulness, ...</td>\n",
       "      <td>Rabbi Jonathan P. Slater DMin</td>\n",
       "      <td>21</td>\n",
       "      <td>Religion &amp; Spirituality</td>\n",
       "    </tr>\n",
       "    <tr>\n",
       "      <td>3</td>\n",
       "      <td>135137829</td>\n",
       "      <td>0135137829.jpg</td>\n",
       "      <td>http://ecx.images-amazon.com/images/I/51PuTPPC...</td>\n",
       "      <td>Construction Scheduling: Principles and Practi...</td>\n",
       "      <td>Jay S. Newitt</td>\n",
       "      <td>0</td>\n",
       "      <td>Arts &amp; Photography</td>\n",
       "    </tr>\n",
       "    <tr>\n",
       "      <td>4</td>\n",
       "      <td>312556411</td>\n",
       "      <td>0312556411.jpg</td>\n",
       "      <td>http://ecx.images-amazon.com/images/I/51uNnIlI...</td>\n",
       "      <td>Literature and Its Writers: A Compact Introduc...</td>\n",
       "      <td>Ann Charters</td>\n",
       "      <td>15</td>\n",
       "      <td>Literature &amp; Fiction</td>\n",
       "    </tr>\n",
       "    <tr>\n",
       "      <td>...</td>\n",
       "      <td>...</td>\n",
       "      <td>...</td>\n",
       "      <td>...</td>\n",
       "      <td>...</td>\n",
       "      <td>...</td>\n",
       "      <td>...</td>\n",
       "      <td>...</td>\n",
       "    </tr>\n",
       "    <tr>\n",
       "      <td>5694</td>\n",
       "      <td>399174680</td>\n",
       "      <td>0399174680.jpg</td>\n",
       "      <td>http://ecx.images-amazon.com/images/I/51JLVnuX...</td>\n",
       "      <td>Scandalous Behavior (A Stone Barrington Novel)</td>\n",
       "      <td>Stuart Woods</td>\n",
       "      <td>17</td>\n",
       "      <td>Mystery, Thriller &amp; Suspense</td>\n",
       "    </tr>\n",
       "    <tr>\n",
       "      <td>5695</td>\n",
       "      <td>1939454654</td>\n",
       "      <td>1939454654.jpg</td>\n",
       "      <td>http://ecx.images-amazon.com/images/I/417gaArF...</td>\n",
       "      <td>Age of Distraction: The Island</td>\n",
       "      <td>Patricia Mahon</td>\n",
       "      <td>17</td>\n",
       "      <td>Mystery, Thriller &amp; Suspense</td>\n",
       "    </tr>\n",
       "    <tr>\n",
       "      <td>5696</td>\n",
       "      <td>1604601604</td>\n",
       "      <td>1604601604.jpg</td>\n",
       "      <td>http://ecx.images-amazon.com/images/I/51BJw1DW...</td>\n",
       "      <td>The Ghostly Quilts on Main (Colebridge Communi...</td>\n",
       "      <td>Ann Hazelwood</td>\n",
       "      <td>17</td>\n",
       "      <td>Mystery, Thriller &amp; Suspense</td>\n",
       "    </tr>\n",
       "    <tr>\n",
       "      <td>5697</td>\n",
       "      <td>399166726</td>\n",
       "      <td>0399166726.jpg</td>\n",
       "      <td>http://ecx.images-amazon.com/images/I/51IQRzWX...</td>\n",
       "      <td>Saving Jason (A Jason Stafford Novel)</td>\n",
       "      <td>Michael Sears</td>\n",
       "      <td>17</td>\n",
       "      <td>Mystery, Thriller &amp; Suspense</td>\n",
       "    </tr>\n",
       "    <tr>\n",
       "      <td>5698</td>\n",
       "      <td>62073508</td>\n",
       "      <td>0062073508.jpg</td>\n",
       "      <td>http://ecx.images-amazon.com/images/I/51yRHldu...</td>\n",
       "      <td>Murder on the Orient Express: A Hercule Poirot...</td>\n",
       "      <td>Agatha Christie</td>\n",
       "      <td>17</td>\n",
       "      <td>Mystery, Thriller &amp; Suspense</td>\n",
       "    </tr>\n",
       "  </tbody>\n",
       "</table>\n",
       "<p>5699 rows × 7 columns</p>\n",
       "</div>"
      ],
      "text/plain": [
       "              Id           Image  \\\n",
       "0     1438005687  1438005687.jpg   \n",
       "1       60750715  0060750715.jpg   \n",
       "2     1580237959  1580237959.jpg   \n",
       "3      135137829  0135137829.jpg   \n",
       "4      312556411  0312556411.jpg   \n",
       "...          ...             ...   \n",
       "5694   399174680  0399174680.jpg   \n",
       "5695  1939454654  1939454654.jpg   \n",
       "5696  1604601604  1604601604.jpg   \n",
       "5697   399166726  0399166726.jpg   \n",
       "5698    62073508  0062073508.jpg   \n",
       "\n",
       "                                             Image_link  \\\n",
       "0     http://ecx.images-amazon.com/images/I/510l0qhi...   \n",
       "1     http://ecx.images-amazon.com/images/I/51p5aUY%...   \n",
       "2     http://ecx.images-amazon.com/images/I/51pum0eW...   \n",
       "3     http://ecx.images-amazon.com/images/I/51PuTPPC...   \n",
       "4     http://ecx.images-amazon.com/images/I/51uNnIlI...   \n",
       "...                                                 ...   \n",
       "5694  http://ecx.images-amazon.com/images/I/51JLVnuX...   \n",
       "5695  http://ecx.images-amazon.com/images/I/417gaArF...   \n",
       "5696  http://ecx.images-amazon.com/images/I/51BJw1DW...   \n",
       "5697  http://ecx.images-amazon.com/images/I/51IQRzWX...   \n",
       "5698  http://ecx.images-amazon.com/images/I/51yRHldu...   \n",
       "\n",
       "                                                  Title  \\\n",
       "0                            Barron's GRE, 21st Edition   \n",
       "1     George Balanchine: The Ballet Maker (Eminent L...   \n",
       "2     A Partner in Holiness: Deepening Mindfulness, ...   \n",
       "3     Construction Scheduling: Principles and Practi...   \n",
       "4     Literature and Its Writers: A Compact Introduc...   \n",
       "...                                                 ...   \n",
       "5694     Scandalous Behavior (A Stone Barrington Novel)   \n",
       "5695                     Age of Distraction: The Island   \n",
       "5696  The Ghostly Quilts on Main (Colebridge Communi...   \n",
       "5697              Saving Jason (A Jason Stafford Novel)   \n",
       "5698  Murder on the Orient Express: A Hercule Poirot...   \n",
       "\n",
       "                             Author  Class                         Genre  \n",
       "0          Sharon Weiner Green M.A.     28              Test Preparation  \n",
       "1                   Robert Gottlieb      1         Biographies & Memoirs  \n",
       "2     Rabbi Jonathan P. Slater DMin     21       Religion & Spirituality  \n",
       "3                     Jay S. Newitt      0            Arts & Photography  \n",
       "4                      Ann Charters     15          Literature & Fiction  \n",
       "...                             ...    ...                           ...  \n",
       "5694                   Stuart Woods     17  Mystery, Thriller & Suspense  \n",
       "5695                 Patricia Mahon     17  Mystery, Thriller & Suspense  \n",
       "5696                  Ann Hazelwood     17  Mystery, Thriller & Suspense  \n",
       "5697                  Michael Sears     17  Mystery, Thriller & Suspense  \n",
       "5698                Agatha Christie     17  Mystery, Thriller & Suspense  \n",
       "\n",
       "[5699 rows x 7 columns]"
      ]
     },
     "execution_count": 6,
     "metadata": {},
     "output_type": "execute_result"
    }
   ],
   "source": [
    "dataset"
   ]
  },
  {
   "cell_type": "markdown",
   "metadata": {},
   "source": [
    "# GoodReads"
   ]
  },
  {
   "cell_type": "code",
   "execution_count": 8,
   "metadata": {},
   "outputs": [],
   "source": [
    "dataset1=pd.read_csv(\"Dataset/goodreads_interactions.csv\")"
   ]
  },
  {
   "cell_type": "code",
   "execution_count": 12,
   "metadata": {},
   "outputs": [
    {
     "data": {
      "text/html": [
       "<div>\n",
       "<style scoped>\n",
       "    .dataframe tbody tr th:only-of-type {\n",
       "        vertical-align: middle;\n",
       "    }\n",
       "\n",
       "    .dataframe tbody tr th {\n",
       "        vertical-align: top;\n",
       "    }\n",
       "\n",
       "    .dataframe thead th {\n",
       "        text-align: right;\n",
       "    }\n",
       "</style>\n",
       "<table border=\"1\" class=\"dataframe\">\n",
       "  <thead>\n",
       "    <tr style=\"text-align: right;\">\n",
       "      <th></th>\n",
       "      <th>user_id</th>\n",
       "      <th>book_id</th>\n",
       "      <th>is_read</th>\n",
       "      <th>rating</th>\n",
       "      <th>is_reviewed</th>\n",
       "    </tr>\n",
       "  </thead>\n",
       "  <tbody>\n",
       "    <tr>\n",
       "      <td>0</td>\n",
       "      <td>0</td>\n",
       "      <td>948</td>\n",
       "      <td>1</td>\n",
       "      <td>5</td>\n",
       "      <td>0</td>\n",
       "    </tr>\n",
       "    <tr>\n",
       "      <td>1</td>\n",
       "      <td>0</td>\n",
       "      <td>947</td>\n",
       "      <td>1</td>\n",
       "      <td>5</td>\n",
       "      <td>1</td>\n",
       "    </tr>\n",
       "    <tr>\n",
       "      <td>2</td>\n",
       "      <td>0</td>\n",
       "      <td>946</td>\n",
       "      <td>1</td>\n",
       "      <td>5</td>\n",
       "      <td>0</td>\n",
       "    </tr>\n",
       "    <tr>\n",
       "      <td>3</td>\n",
       "      <td>0</td>\n",
       "      <td>945</td>\n",
       "      <td>1</td>\n",
       "      <td>5</td>\n",
       "      <td>0</td>\n",
       "    </tr>\n",
       "    <tr>\n",
       "      <td>4</td>\n",
       "      <td>0</td>\n",
       "      <td>944</td>\n",
       "      <td>1</td>\n",
       "      <td>5</td>\n",
       "      <td>0</td>\n",
       "    </tr>\n",
       "  </tbody>\n",
       "</table>\n",
       "</div>"
      ],
      "text/plain": [
       "   user_id  book_id  is_read  rating  is_reviewed\n",
       "0        0      948        1       5            0\n",
       "1        0      947        1       5            1\n",
       "2        0      946        1       5            0\n",
       "3        0      945        1       5            0\n",
       "4        0      944        1       5            0"
      ]
     },
     "execution_count": 12,
     "metadata": {},
     "output_type": "execute_result"
    }
   ],
   "source": [
    "dataset1.head()"
   ]
  },
  {
   "cell_type": "code",
   "execution_count": 8,
   "metadata": {},
   "outputs": [
    {
     "data": {
      "text/plain": [
       "(228648342, 5)"
      ]
     },
     "execution_count": 8,
     "metadata": {},
     "output_type": "execute_result"
    }
   ],
   "source": [
    "dataset1.shape"
   ]
  },
  {
   "cell_type": "code",
   "execution_count": 16,
   "metadata": {},
   "outputs": [],
   "source": [
    "dataset2= dataset1.loc[dataset1.is_reviewed!=0]\n"
   ]
  },
  {
   "cell_type": "code",
   "execution_count": 17,
   "metadata": {},
   "outputs": [
    {
     "data": {
      "text/plain": [
       "(16219149, 5)"
      ]
     },
     "execution_count": 17,
     "metadata": {},
     "output_type": "execute_result"
    }
   ],
   "source": [
    "dataset2.shape"
   ]
  },
  {
   "cell_type": "code",
   "execution_count": 18,
   "metadata": {},
   "outputs": [
    {
     "data": {
      "text/plain": [
       "user_id        int64\n",
       "book_id        int64\n",
       "is_read        int64\n",
       "rating         int64\n",
       "is_reviewed    int64\n",
       "dtype: object"
      ]
     },
     "execution_count": 18,
     "metadata": {},
     "output_type": "execute_result"
    }
   ],
   "source": [
    "dataset2.dtypes"
   ]
  },
  {
   "cell_type": "code",
   "execution_count": 21,
   "metadata": {},
   "outputs": [],
   "source": [
    "dataset3=pd.read_csv(\"dataset/book_id_map.csv\")"
   ]
  },
  {
   "cell_type": "code",
   "execution_count": 22,
   "metadata": {},
   "outputs": [
    {
     "data": {
      "text/html": [
       "<div>\n",
       "<style scoped>\n",
       "    .dataframe tbody tr th:only-of-type {\n",
       "        vertical-align: middle;\n",
       "    }\n",
       "\n",
       "    .dataframe tbody tr th {\n",
       "        vertical-align: top;\n",
       "    }\n",
       "\n",
       "    .dataframe thead th {\n",
       "        text-align: right;\n",
       "    }\n",
       "</style>\n",
       "<table border=\"1\" class=\"dataframe\">\n",
       "  <thead>\n",
       "    <tr style=\"text-align: right;\">\n",
       "      <th></th>\n",
       "      <th>book_id_csv</th>\n",
       "      <th>book_id</th>\n",
       "    </tr>\n",
       "  </thead>\n",
       "  <tbody>\n",
       "    <tr>\n",
       "      <td>0</td>\n",
       "      <td>0</td>\n",
       "      <td>34684622</td>\n",
       "    </tr>\n",
       "    <tr>\n",
       "      <td>1</td>\n",
       "      <td>1</td>\n",
       "      <td>34536488</td>\n",
       "    </tr>\n",
       "    <tr>\n",
       "      <td>2</td>\n",
       "      <td>2</td>\n",
       "      <td>34017076</td>\n",
       "    </tr>\n",
       "    <tr>\n",
       "      <td>3</td>\n",
       "      <td>3</td>\n",
       "      <td>71730</td>\n",
       "    </tr>\n",
       "    <tr>\n",
       "      <td>4</td>\n",
       "      <td>4</td>\n",
       "      <td>30422361</td>\n",
       "    </tr>\n",
       "  </tbody>\n",
       "</table>\n",
       "</div>"
      ],
      "text/plain": [
       "   book_id_csv   book_id\n",
       "0            0  34684622\n",
       "1            1  34536488\n",
       "2            2  34017076\n",
       "3            3     71730\n",
       "4            4  30422361"
      ]
     },
     "execution_count": 22,
     "metadata": {},
     "output_type": "execute_result"
    }
   ],
   "source": [
    "dataset3.head()"
   ]
  },
  {
   "cell_type": "code",
   "execution_count": 24,
   "metadata": {},
   "outputs": [
    {
     "name": "stderr",
     "output_type": "stream",
     "text": [
      "b'Skipping line 3350: expected 12 fields, saw 13\\nSkipping line 4704: expected 12 fields, saw 13\\nSkipping line 5879: expected 12 fields, saw 13\\nSkipping line 8981: expected 12 fields, saw 13\\n'\n"
     ]
    }
   ],
   "source": [
    "dataset4=pd.read_csv(\"dataset/books.csv\",error_bad_lines=False)"
   ]
  },
  {
   "cell_type": "code",
   "execution_count": 25,
   "metadata": {},
   "outputs": [
    {
     "data": {
      "text/html": [
       "<div>\n",
       "<style scoped>\n",
       "    .dataframe tbody tr th:only-of-type {\n",
       "        vertical-align: middle;\n",
       "    }\n",
       "\n",
       "    .dataframe tbody tr th {\n",
       "        vertical-align: top;\n",
       "    }\n",
       "\n",
       "    .dataframe thead th {\n",
       "        text-align: right;\n",
       "    }\n",
       "</style>\n",
       "<table border=\"1\" class=\"dataframe\">\n",
       "  <thead>\n",
       "    <tr style=\"text-align: right;\">\n",
       "      <th></th>\n",
       "      <th>bookID</th>\n",
       "      <th>title</th>\n",
       "      <th>authors</th>\n",
       "      <th>average_rating</th>\n",
       "      <th>isbn</th>\n",
       "      <th>isbn13</th>\n",
       "      <th>language_code</th>\n",
       "      <th>num_pages</th>\n",
       "      <th>ratings_count</th>\n",
       "      <th>text_reviews_count</th>\n",
       "      <th>publication_date</th>\n",
       "      <th>publisher</th>\n",
       "    </tr>\n",
       "  </thead>\n",
       "  <tbody>\n",
       "    <tr>\n",
       "      <td>0</td>\n",
       "      <td>1</td>\n",
       "      <td>Harry Potter and the Half-Blood Prince (Harry ...</td>\n",
       "      <td>J.K. Rowling/Mary GrandPré</td>\n",
       "      <td>4.57</td>\n",
       "      <td>0439785960</td>\n",
       "      <td>9780439785969</td>\n",
       "      <td>eng</td>\n",
       "      <td>652</td>\n",
       "      <td>2095690</td>\n",
       "      <td>27591</td>\n",
       "      <td>9/16/2006</td>\n",
       "      <td>Scholastic Inc.</td>\n",
       "    </tr>\n",
       "    <tr>\n",
       "      <td>1</td>\n",
       "      <td>2</td>\n",
       "      <td>Harry Potter and the Order of the Phoenix (Har...</td>\n",
       "      <td>J.K. Rowling/Mary GrandPré</td>\n",
       "      <td>4.49</td>\n",
       "      <td>0439358078</td>\n",
       "      <td>9780439358071</td>\n",
       "      <td>eng</td>\n",
       "      <td>870</td>\n",
       "      <td>2153167</td>\n",
       "      <td>29221</td>\n",
       "      <td>9/1/2004</td>\n",
       "      <td>Scholastic Inc.</td>\n",
       "    </tr>\n",
       "    <tr>\n",
       "      <td>2</td>\n",
       "      <td>4</td>\n",
       "      <td>Harry Potter and the Chamber of Secrets (Harry...</td>\n",
       "      <td>J.K. Rowling</td>\n",
       "      <td>4.42</td>\n",
       "      <td>0439554896</td>\n",
       "      <td>9780439554893</td>\n",
       "      <td>eng</td>\n",
       "      <td>352</td>\n",
       "      <td>6333</td>\n",
       "      <td>244</td>\n",
       "      <td>11/1/2003</td>\n",
       "      <td>Scholastic</td>\n",
       "    </tr>\n",
       "    <tr>\n",
       "      <td>3</td>\n",
       "      <td>5</td>\n",
       "      <td>Harry Potter and the Prisoner of Azkaban (Harr...</td>\n",
       "      <td>J.K. Rowling/Mary GrandPré</td>\n",
       "      <td>4.56</td>\n",
       "      <td>043965548X</td>\n",
       "      <td>9780439655484</td>\n",
       "      <td>eng</td>\n",
       "      <td>435</td>\n",
       "      <td>2339585</td>\n",
       "      <td>36325</td>\n",
       "      <td>5/1/2004</td>\n",
       "      <td>Scholastic Inc.</td>\n",
       "    </tr>\n",
       "    <tr>\n",
       "      <td>4</td>\n",
       "      <td>8</td>\n",
       "      <td>Harry Potter Boxed Set  Books 1-5 (Harry Potte...</td>\n",
       "      <td>J.K. Rowling/Mary GrandPré</td>\n",
       "      <td>4.78</td>\n",
       "      <td>0439682584</td>\n",
       "      <td>9780439682589</td>\n",
       "      <td>eng</td>\n",
       "      <td>2690</td>\n",
       "      <td>41428</td>\n",
       "      <td>164</td>\n",
       "      <td>9/13/2004</td>\n",
       "      <td>Scholastic</td>\n",
       "    </tr>\n",
       "  </tbody>\n",
       "</table>\n",
       "</div>"
      ],
      "text/plain": [
       "   bookID                                              title  \\\n",
       "0       1  Harry Potter and the Half-Blood Prince (Harry ...   \n",
       "1       2  Harry Potter and the Order of the Phoenix (Har...   \n",
       "2       4  Harry Potter and the Chamber of Secrets (Harry...   \n",
       "3       5  Harry Potter and the Prisoner of Azkaban (Harr...   \n",
       "4       8  Harry Potter Boxed Set  Books 1-5 (Harry Potte...   \n",
       "\n",
       "                      authors  average_rating        isbn         isbn13  \\\n",
       "0  J.K. Rowling/Mary GrandPré            4.57  0439785960  9780439785969   \n",
       "1  J.K. Rowling/Mary GrandPré            4.49  0439358078  9780439358071   \n",
       "2                J.K. Rowling            4.42  0439554896  9780439554893   \n",
       "3  J.K. Rowling/Mary GrandPré            4.56  043965548X  9780439655484   \n",
       "4  J.K. Rowling/Mary GrandPré            4.78  0439682584  9780439682589   \n",
       "\n",
       "  language_code    num_pages  ratings_count  text_reviews_count  \\\n",
       "0           eng          652        2095690               27591   \n",
       "1           eng          870        2153167               29221   \n",
       "2           eng          352           6333                 244   \n",
       "3           eng          435        2339585               36325   \n",
       "4           eng         2690          41428                 164   \n",
       "\n",
       "  publication_date        publisher  \n",
       "0        9/16/2006  Scholastic Inc.  \n",
       "1         9/1/2004  Scholastic Inc.  \n",
       "2        11/1/2003       Scholastic  \n",
       "3         5/1/2004  Scholastic Inc.  \n",
       "4        9/13/2004       Scholastic  "
      ]
     },
     "execution_count": 25,
     "metadata": {},
     "output_type": "execute_result"
    }
   ],
   "source": [
    "dataset4.head()"
   ]
  },
  {
   "cell_type": "code",
   "execution_count": null,
   "metadata": {},
   "outputs": [],
   "source": []
  }
 ],
 "metadata": {
  "kernelspec": {
   "display_name": "Python 3",
   "language": "python",
   "name": "python3"
  },
  "language_info": {
   "codemirror_mode": {
    "name": "ipython",
    "version": 3
   },
   "file_extension": ".py",
   "mimetype": "text/x-python",
   "name": "python",
   "nbconvert_exporter": "python",
   "pygments_lexer": "ipython3",
   "version": "3.7.4"
  }
 },
 "nbformat": 4,
 "nbformat_minor": 2
}
